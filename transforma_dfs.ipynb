{
 "cells": [
  {
   "cell_type": "code",
   "execution_count": 1,
   "id": "203d77a8",
   "metadata": {},
   "outputs": [],
   "source": [
    "import pandas as pd"
   ]
  },
  {
   "cell_type": "markdown",
   "id": "d63a3d4d",
   "metadata": {},
   "source": [
    "1. Vocês pegassem o df_brics (ele tá no github ja).\n",
    "2. Inputem colunas temporais neles. Por exemplo uma coluna pra dizer o mês do ano (0-> janeiro, 1->fevereiro,...11->Dezembro), hora do dia, semestre, quadrimestre... também queria uma coluna que falasse se é depois ou antes do covid ( literalmente uma coluna de 0's e 1's  em que começa a ser 1 depois do dia que o covid começou (vcs olham no Google)).\n",
    "3. Depois de fazerem isso, dividam as variáveis targets (MSCI BRAZIL,...., MSCI CHINA) 4 dataframes com uma só variável target com essas informações temporais."
   ]
  },
  {
   "cell_type": "code",
   "execution_count": null,
   "id": "62cb0b3c",
   "metadata": {},
   "outputs": [
    {
     "name": "stderr",
     "output_type": "stream",
     "text": [
      "/var/folders/4_/y8n_r661239cxd96qn13zy2h0000gn/T/ipykernel_7504/2760812166.py:1: UserWarning: Could not infer format, so each element will be parsed individually, falling back to `dateutil`. To ensure parsing is consistent and as-expected, please specify a format.\n",
      "  df_subset=pd.read_csv(\"ETF_data_yfinance_formatado.csv\", index_col=0, parse_dates=True)\n"
     ]
    },
    {
     "data": {
      "text/html": [
       "<div>\n",
       "<style scoped>\n",
       "    .dataframe tbody tr th:only-of-type {\n",
       "        vertical-align: middle;\n",
       "    }\n",
       "\n",
       "    .dataframe tbody tr th {\n",
       "        vertical-align: top;\n",
       "    }\n",
       "\n",
       "    .dataframe thead th {\n",
       "        text-align: right;\n",
       "    }\n",
       "</style>\n",
       "<table border=\"1\" class=\"dataframe\">\n",
       "  <thead>\n",
       "    <tr style=\"text-align: right;\">\n",
       "      <th></th>\n",
       "      <th>MSCI BRAZIL</th>\n",
       "      <th>MSCI CHINA</th>\n",
       "      <th>MSCI INDIA</th>\n",
       "      <th>MSCI SOUTH AFRICA</th>\n",
       "    </tr>\n",
       "    <tr>\n",
       "      <th>Date</th>\n",
       "      <th></th>\n",
       "      <th></th>\n",
       "      <th></th>\n",
       "      <th></th>\n",
       "    </tr>\n",
       "  </thead>\n",
       "  <tbody>\n",
       "    <tr>\n",
       "      <th>2016-01-04</th>\n",
       "      <td>12.360641</td>\n",
       "      <td>36.292149</td>\n",
       "      <td>23.988008</td>\n",
       "      <td>29.382587</td>\n",
       "    </tr>\n",
       "    <tr>\n",
       "      <th>2016-01-05</th>\n",
       "      <td>12.534207</td>\n",
       "      <td>36.258453</td>\n",
       "      <td>24.219690</td>\n",
       "      <td>29.485670</td>\n",
       "    </tr>\n",
       "    <tr>\n",
       "      <th>2016-01-06</th>\n",
       "      <td>12.348243</td>\n",
       "      <td>35.651760</td>\n",
       "      <td>23.863255</td>\n",
       "      <td>28.590216</td>\n",
       "    </tr>\n",
       "    <tr>\n",
       "      <th>2016-01-07</th>\n",
       "      <td>11.889524</td>\n",
       "      <td>34.194000</td>\n",
       "      <td>23.105833</td>\n",
       "      <td>27.147165</td>\n",
       "    </tr>\n",
       "    <tr>\n",
       "      <th>2016-01-08</th>\n",
       "      <td>11.833734</td>\n",
       "      <td>33.688419</td>\n",
       "      <td>23.007812</td>\n",
       "      <td>26.586708</td>\n",
       "    </tr>\n",
       "  </tbody>\n",
       "</table>\n",
       "</div>"
      ],
      "text/plain": [
       "            MSCI BRAZIL  MSCI CHINA  MSCI INDIA  MSCI SOUTH AFRICA\n",
       "Date                                                              \n",
       "2016-01-04    12.360641   36.292149   23.988008          29.382587\n",
       "2016-01-05    12.534207   36.258453   24.219690          29.485670\n",
       "2016-01-06    12.348243   35.651760   23.863255          28.590216\n",
       "2016-01-07    11.889524   34.194000   23.105833          27.147165\n",
       "2016-01-08    11.833734   33.688419   23.007812          26.586708"
      ]
     },
     "execution_count": 3,
     "metadata": {},
     "output_type": "execute_result"
    }
   ],
   "source": [
    "df_subset=pd.read_csv(\"ETF_data_yfinance_formatado.csv\", index_col=0, parse_dates=True)\n",
    "df_subset.index = pd.to_datetime(df_subset.index)\n",
    "df_subset = df_subset[df_subset.index <= \"2025-07-03\"]\n",
    "df_subset.head()\n",
    "\n",
    "\n",
    "cols = ['MSCI BRAZIL', 'MSCI CHINA', 'MSCI INDIA', 'MSCI SOUTH AFRICA']\n",
    "df_subset[cols] = df_subset[cols].apply(pd.to_numeric, errors='coerce')\n",
    "\n",
    "df_brics=df_subset[['MSCI BRAZIL', 'MSCI CHINA', 'MSCI INDIA', 'MSCI SOUTH AFRICA']].copy()\n",
    "df_brics.head()"
   ]
  },
  {
   "cell_type": "code",
   "execution_count": 40,
   "id": "65a1f036",
   "metadata": {},
   "outputs": [],
   "source": [
    "df_brics['mes'] = df_brics.index.month\n",
    "df_brics['semestre'] = df_brics['mes'].apply(lambda x: 2 if x > 6 else 1)\n",
    "df_brics['quadrimestre'] = df_brics['mes'].apply(lambda x: (x - 1) // 3 + 1)\n",
    "df_brics['covid'] = (df_brics.index > pd.to_datetime('2020-01-30')).astype(int)\n",
    "df_brics['trump'] = (((df_brics.index >= '2017-01-20') & (df_brics.index <= '2020-01-19')) | (df_brics.index >= '2025-01-20')).astype(int)\n",
    "df_brics['guerra_ucrania'] = (df_brics.index > pd.to_datetime('2022-02-24')).astype(int)"
   ]
  },
  {
   "cell_type": "code",
   "execution_count": 49,
   "id": "5efbecde",
   "metadata": {},
   "outputs": [],
   "source": [
    "colunas_acontecimentos=[col for col in df_brics.columns if 'MSCI' not in col]\n",
    "\n",
    "for col in cols:\n",
    "    df = df_brics[colunas_acontecimentos + [col]]\n",
    "    df.to_csv(f\"dados/df_{col.replace(' ', '_')}.csv\")"
   ]
  },
  {
   "cell_type": "code",
   "execution_count": null,
   "id": "75cb7d0d",
   "metadata": {},
   "outputs": [],
   "source": []
  }
 ],
 "metadata": {
  "kernelspec": {
   "display_name": "env-etf",
   "language": "python",
   "name": "python3"
  },
  "language_info": {
   "codemirror_mode": {
    "name": "ipython",
    "version": 3
   },
   "file_extension": ".py",
   "mimetype": "text/x-python",
   "name": "python",
   "nbconvert_exporter": "python",
   "pygments_lexer": "ipython3",
   "version": "3.10.11"
  }
 },
 "nbformat": 4,
 "nbformat_minor": 5
}
